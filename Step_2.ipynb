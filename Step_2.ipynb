{
  "nbformat": 4,
  "nbformat_minor": 0,
  "metadata": {
    "colab": {
      "name": "Step 2.ipynb",
      "provenance": [],
      "collapsed_sections": []
    },
    "kernelspec": {
      "name": "python3",
      "display_name": "Python 3"
    }
  },
  "cells": [
    {
      "cell_type": "markdown",
      "metadata": {
        "id": "Gn-HaUuvWmoG"
      },
      "source": [
        "# STEP 2"
      ]
    },
    {
      "cell_type": "markdown",
      "metadata": {
        "id": "zTjcvKyPWjFM"
      },
      "source": [
        "## Graph representation of the relation \"Have seen\" "
      ]
    },
    {
      "cell_type": "code",
      "metadata": {
        "id": "n751STT7WwrD"
      },
      "source": [
        "class Player_Graph:\r\n",
        "    def __init__(self,name):\r\n",
        "        self.name = name    \r\n",
        "        self.listeJ = list() #List of players the player has seen\r\n",
        "\r\n",
        "    #Method used to add a relation \"has seen\" between the player and an other one\r\n",
        "    def addToPlayerSeenList(self, joueurs):\r\n",
        "        for player in joueurs:\r\n",
        "            if player not in self.listeJ:\r\n",
        "                self.listeJ.append(player)\r\n",
        "            else:\r\n",
        "                print(\"Error you have already added\",player.name,\"to\", self.name)\r\n",
        "    \r\n",
        "    #Display method\r\n",
        "    def hasSeen(self):\r\n",
        "        chaine = \"Player \" + self.name +\" has seen player : \"\r\n",
        "        for a in self.listeJ:\r\n",
        "            chaine += \" \" + a.name\r\n",
        "        return chaine"
      ],
      "execution_count": 2,
      "outputs": []
    },
    {
      "cell_type": "markdown",
      "metadata": {
        "id": "atfXGLfuW0yj"
      },
      "source": [
        "# Algorithm solving our problem using graph theory"
      ]
    },
    {
      "cell_type": "markdown",
      "metadata": {
        "id": "meEem2bNW7mk"
      },
      "source": [
        "V1 method : \r\n",
        "We can do it by elimination using a list containing the number corresponding to the players. \r\n",
        "At the beginning the list is composed of every numbers.\r\n",
        "We go to each node connected to the dead player.\r\n",
        "While on a node, we consider it as an impostor, so the two others cannot be an impostor (so we delete them from the list), now we go to the nodes connected to our alleged impostor, and all the players that he has seen cannot be impostors too, so we delete them from the list too. \r\n",
        "So the other nodes can be impostors, so we pair each of them with the initial node we were looking at and add them to the set of probable impostors.\r\n",
        "And then we reset the list of numbers corresponding to the players and look at the next node connected to the dead player and repeat the process until we have looked up at each node (player) the dead player has seen. \r\n"
      ]
    },
    {
      "cell_type": "code",
      "metadata": {
        "id": "slvDlaHyXBg-"
      },
      "source": [
        "def findTheImpostorsV1(playerKilled):\r\n",
        "    setOfProbableImpostors = []\r\n",
        "    listeJoueur = [str(x) for x in range(0,10) if x != playerKilled.name] #The player who has been killed is basically excluded.\r\n",
        "\r\n",
        "    for node in playerKilled.listeJ: # We consider node to be an impostor\r\n",
        "        for node2 in playerKilled.listeJ: # So we won't consider the 2 other players with him\r\n",
        "            try:\r\n",
        "                listeJoueur.remove(node2.name)\r\n",
        "            except ValueError:\r\n",
        "                pass\r\n",
        "        for node3 in node.listeJ: # So now we move to the Players that the alleged impostor has seen, and they cannot be impostors too, so we won't consider them \r\n",
        "            try:\r\n",
        "                listeJoueur.remove(node3.name)\r\n",
        "            except ValueError:\r\n",
        "                pass\r\n",
        "        for number in listeJoueur: # We create sets of potential imposters which haven't been seen with the alleged impostor + the one that he hasn't seen \r\n",
        "            setOfProbableImpostors.append((int(node.name),int(number)))\r\n",
        "        listeJoueur = [str(x) for x in range(0,10) if x != playerKilled.name] # Reset the player list to go to the next player in the list of players that the killed person has seen\r\n",
        "    \r\n",
        "    return setOfProbableImpostors"
      ],
      "execution_count": 3,
      "outputs": []
    },
    {
      "cell_type": "markdown",
      "metadata": {
        "id": "_L68eh2pW-n7"
      },
      "source": [
        "\r\n",
        "V2 method :\r\n",
        "First,since the first subjects are the Players who have seen Player 0 we can just take their corresponding node in the graph and go to any other node that is connected to it (except node 0 of course). \r\n",
        "From these nodes we can now go one more step to all connected nodes and they will be our second suspect.\r\n",
        "In this case it also refers to a graph coloring process, but here it is way more optimized since we don't browse every node of the graph\r\n",
        " And we also navigate only on the interesting nodes.\r\n",
        " We could have added colors in the nodes and then take the nodes with the same color as the player killed node but it would not be interesting"
      ]
    },
    {
      "cell_type": "code",
      "metadata": {
        "id": "Zjoj0ZSHU3uB"
      },
      "source": [
        "def findTheImpostorsV2(playerKilled):\r\n",
        "    setOfProbableImpostors = []\r\n",
        "    for node in playerKilled.listeJ: # We look at the players the victim has seen\r\n",
        "        for node3 in node.listeJ: # We look at the players they have seen\r\n",
        "            if node3 != playerKilled: # And we don't consider the playerkilled of course\r\n",
        "                for node4 in node3.listeJ: # And then we look at the players that they saw\r\n",
        "                    if node4 != node: # if it's not the one we were looking at the begining\r\n",
        "                        setOfProbableImpostors.append((int(node.name),int(node4.name))) # We add the couple to the set of impostors\r\n",
        "    return setOfProbableImpostors\r\n",
        "\r\n",
        "\r\n"
      ],
      "execution_count": 4,
      "outputs": []
    },
    {
      "cell_type": "markdown",
      "metadata": {
        "id": "n6Hl8bSyXKwq"
      },
      "source": [
        "# Display methods"
      ]
    },
    {
      "cell_type": "code",
      "metadata": {
        "id": "32-hSYPbXOzg"
      },
      "source": [
        "def displaySetOfProbableImpostorsV2(playerKilled):\r\n",
        "  print(\"\\n\\nHere are the set of probable impostors (found with V2 method):\")\r\n",
        "  for setof in findTheImpostorsV2(playerKilled):\r\n",
        "    print(setof, end=' ')\r\n",
        "  print()\r\n",
        "\r\n",
        "def displaySetOfProbableImpostors(playerKilled):\r\n",
        "  print(zero.hasSeen(), \"\\n\\nHere are the set of probable impostors (found with V1 method) :\")\r\n",
        "  for setof in findTheImpostorsV1(playerKilled):\r\n",
        "    print(setof, end=' ')\r\n",
        "  print()"
      ],
      "execution_count": 5,
      "outputs": []
    },
    {
      "cell_type": "markdown",
      "metadata": {
        "id": "v1PDcw4JXTqD"
      },
      "source": [
        "# Create players and play the code"
      ]
    },
    {
      "cell_type": "code",
      "metadata": {
        "colab": {
          "base_uri": "https://localhost:8080/"
        },
        "id": "nMgRausjXYAZ",
        "outputId": "9d9591fd-6874-4efa-f51a-67ba7a8ce1dd"
      },
      "source": [
        "# Question 1\r\n",
        "zero =  Player_Graph(\"0\")\r\n",
        "one =   Player_Graph(\"1\")\r\n",
        "two =   Player_Graph(\"2\")\r\n",
        "three = Player_Graph(\"3\")\r\n",
        "four =  Player_Graph(\"4\")\r\n",
        "five =  Player_Graph(\"5\")\r\n",
        "six =   Player_Graph(\"6\")\r\n",
        "seven = Player_Graph(\"7\")\r\n",
        "eight = Player_Graph(\"8\")\r\n",
        "nine =  Player_Graph(\"9\")\r\n",
        "\r\n",
        "#We reproduce the example of the problem\r\n",
        "zero.addToPlayerSeenList([one, four, five])\r\n",
        "one.addToPlayerSeenList([zero, two, six]) \r\n",
        "two.addToPlayerSeenList([one, three, seven])  \r\n",
        "three.addToPlayerSeenList([two, four, eight])  \r\n",
        "four.addToPlayerSeenList([zero, three, nine])  \r\n",
        "five.addToPlayerSeenList([zero, seven, eight])    \r\n",
        "six.addToPlayerSeenList([one, nine, eight])  \r\n",
        "seven.addToPlayerSeenList([two, five, nine])  \r\n",
        "eight.addToPlayerSeenList([three, five, six])  \r\n",
        "nine.addToPlayerSeenList([four, seven, six])  \r\n",
        "\r\n",
        "# Question 4\r\n",
        "displaySetOfProbableImpostors(zero)\r\n",
        "displaySetOfProbableImpostorsV2(zero)"
      ],
      "execution_count": 6,
      "outputs": [
        {
          "output_type": "stream",
          "text": [
            "Player 0 has seen player :  1 4 5 \n",
            "\n",
            "Here are the set of probable impostors (found with V1 method) :\n",
            "(1, 3) (1, 7) (1, 8) (1, 9) (4, 2) (4, 6) (4, 7) (4, 8) (5, 2) (5, 3) (5, 6) (5, 9) \n",
            "\n",
            "\n",
            "Here are the set of probable impostors (found with V2 method):\n",
            "(1, 3) (1, 7) (1, 9) (1, 8) (4, 2) (4, 8) (4, 7) (4, 6) (5, 2) (5, 9) (5, 3) (5, 6) \n"
          ],
          "name": "stdout"
        }
      ]
    }
  ]
}